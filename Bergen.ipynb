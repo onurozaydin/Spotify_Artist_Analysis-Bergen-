{
 "cells": [
  {
   "cell_type": "code",
   "execution_count": 1,
   "id": "84922bf5-14db-4673-b4ca-6c47598e49fc",
   "metadata": {},
   "outputs": [
    {
     "name": "stdout",
     "output_type": "stream",
     "text": [
      "Requirement already satisfied: spotipy in c:\\users\\onur\\anaconda3\\lib\\site-packages (2.22.1)\n",
      "Requirement already satisfied: urllib3>=1.26.0 in c:\\users\\onur\\anaconda3\\lib\\site-packages (from spotipy) (1.26.14)\n",
      "Requirement already satisfied: requests>=2.25.0 in c:\\users\\onur\\anaconda3\\lib\\site-packages (from spotipy) (2.28.1)\n",
      "Requirement already satisfied: six>=1.15.0 in c:\\users\\onur\\anaconda3\\lib\\site-packages (from spotipy) (1.16.0)\n",
      "Requirement already satisfied: redis>=3.5.3 in c:\\users\\onur\\anaconda3\\lib\\site-packages (from spotipy) (4.5.1)\n",
      "Requirement already satisfied: async-timeout>=4.0.2 in c:\\users\\onur\\anaconda3\\lib\\site-packages (from redis>=3.5.3->spotipy) (4.0.2)\n",
      "Requirement already satisfied: certifi>=2017.4.17 in c:\\users\\onur\\anaconda3\\lib\\site-packages (from requests>=2.25.0->spotipy) (2022.12.7)\n",
      "Requirement already satisfied: idna<4,>=2.5 in c:\\users\\onur\\anaconda3\\lib\\site-packages (from requests>=2.25.0->spotipy) (3.4)\n",
      "Requirement already satisfied: charset-normalizer<3,>=2 in c:\\users\\onur\\anaconda3\\lib\\site-packages (from requests>=2.25.0->spotipy) (2.0.4)\n",
      "Note: you may need to restart the kernel to use updated packages.\n"
     ]
    }
   ],
   "source": [
    "pip install spotipy"
   ]
  },
  {
   "cell_type": "code",
   "execution_count": 2,
   "id": "97a48b1b-733e-49f3-9458-2a3e13b8423f",
   "metadata": {},
   "outputs": [],
   "source": [
    "import spotipy\n",
    "from spotipy.oauth2 import SpotifyClientCredentials\n"
   ]
  },
  {
   "cell_type": "code",
   "execution_count": 3,
   "id": "0a4c3327-4687-495f-804f-b26e5d48080f",
   "metadata": {},
   "outputs": [],
   "source": [
    "client_id = \"de822ace35a44720b4617d94879938d6\"\n",
    "client_secret = \"8120a23271324d659f2a4d51526b521c\"\n",
    "client_credentials_manager = SpotifyClientCredentials(client_id, client_secret)\n",
    "sp = spotipy.Spotify(client_credentials_manager=client_credentials_manager)\n"
   ]
  },
  {
   "cell_type": "code",
   "execution_count": 4,
   "id": "32988784-c81d-4c8e-96f3-24d4386bd024",
   "metadata": {},
   "outputs": [],
   "source": [
    "artist_name = \"Bergen\"\n"
   ]
  },
  {
   "cell_type": "code",
   "execution_count": 5,
   "id": "a6d4b8bf-e14d-40b8-8062-13ef1add2256",
   "metadata": {},
   "outputs": [
    {
     "name": "stdout",
     "output_type": "stream",
     "text": [
      "Bergen adlı sanatçının kimlik bilgisi:  0OjAaymO59uGiFmfpJrQpl\n"
     ]
    }
   ],
   "source": [
    "artist_id = \"0OjAaymO59uGiFmfpJrQpl\"\n",
    "print(\"Bergen adlı sanatçının kimlik bilgisi: \", artist_id)\n"
   ]
  },
  {
   "cell_type": "code",
   "execution_count": 6,
   "id": "d4921105-3fe7-4f4c-b934-dcee81089b68",
   "metadata": {},
   "outputs": [
    {
     "name": "stdout",
     "output_type": "stream",
     "text": [
      "Bergen adlı sanatçının şarkılarının kimlik bilgileri:  ['0nudrF7WUr6R5OEVffxuky', '48laGKFr73HmALqSKqlzv0', '4VC8fmwVLEqppUhyTx7pJa', '7oPVCLLZYpU52IUKQ3hRc1', '34pNakIoVQSuTccHUj1m1q', '1pT3pwLtqgiUHONdTL06Ca', '2w2Bdx9KyMdNm0msJaHqWn', '4yicmzuOBt1xNunbL1NXsT', '2x4l5PRjEp6yaVZ6mttZpF', '5E9EF08ESsfUslOv1dMwBY']\n"
     ]
    }
   ],
   "source": [
    "artist_id = \"0OjAaymO59uGiFmfpJrQpl\"\n",
    "results = sp.artist_top_tracks(artist_id)\n",
    "track_ids = [track['id'] for track in results['tracks']]\n",
    "print(\"Bergen adlı sanatçının şarkılarının kimlik bilgileri: \", track_ids)\n"
   ]
  },
  {
   "cell_type": "code",
   "execution_count": 7,
   "id": "26c47213-a045-4435-8d50-4435405653eb",
   "metadata": {},
   "outputs": [
    {
     "name": "stdout",
     "output_type": "stream",
     "text": [
      "Bergen adlı sanatçının en popüler şarkılarının toplam dinlenme süresi:  47.21  dakika\n"
     ]
    }
   ],
   "source": [
    "import pandas as pd\n",
    "\n",
    "# Sanatçının en popüler şarkılarının kimlik bilgilerini alma\n",
    "artist_id = \"0OjAaymO59uGiFmfpJrQpl\"\n",
    "results = sp.artist_top_tracks(artist_id)\n",
    "track_ids = [track['id'] for track in results['tracks']]\n",
    "\n",
    "# Şarkıların özelliklerini alma\n",
    "audio_features = sp.audio_features(track_ids)\n",
    "df = pd.DataFrame(audio_features)\n",
    "\n",
    "# Dinlenme sürelerini toplama\n",
    "total_duration_ms = df['duration_ms'].sum()\n",
    "total_duration_min = round(total_duration_ms / 1000 / 60, 2)\n",
    "\n",
    "print(\"Bergen adlı sanatçının en popüler şarkılarının toplam dinlenme süresi: \", total_duration_min, \" dakika\")\n"
   ]
  },
  {
   "cell_type": "code",
   "execution_count": 9,
   "id": "c4d62dff-8493-4ae5-a566-c624c0a376e1",
   "metadata": {},
   "outputs": [
    {
     "name": "stdout",
     "output_type": "stream",
     "text": [
      "               Şarkı Adı Sanatçı Adı  danceability  energy  key  loudness  \\\n",
      "0           Sen Affetsen      Bergen         0.370   0.406    3    -7.740   \n",
      "1      Benim İçin Üzülme      Bergen         0.318   0.392    4    -8.427   \n",
      "2      Elimde Fotoğrafın      Bergen         0.569   0.565   11    -5.136   \n",
      "3    İnsan Dertli Olunca      Bergen         0.467   0.712    7    -4.236   \n",
      "4  Seni Kalbimden Kovdum      Bergen         0.409   0.603    2    -5.169   \n",
      "5            Zaman Geldi      Bergen         0.434   0.546    5    -4.438   \n",
      "6        Kullar Affetmez      Bergen         0.493   0.532    5    -5.648   \n",
      "7    Bana Neler Vadettin      Bergen         0.297   0.378    8    -8.913   \n",
      "8        Acıların Kadını      Bergen         0.673   0.566    9    -7.806   \n",
      "9             Aşk Kitabı      Bergen         0.331   0.425    8    -8.350   \n",
      "\n",
      "   mode  speechiness  acousticness  instrumentalness  liveness  valence  \\\n",
      "0     0       0.0314         0.537          0.000001    0.0640    0.498   \n",
      "1     0       0.0350         0.657          0.000000    0.0733    0.586   \n",
      "2     0       0.0398         0.517          0.000051    0.2020    0.645   \n",
      "3     0       0.0400         0.898          0.035000    0.5560    0.684   \n",
      "4     0       0.0302         0.874          0.000276    0.6200    0.428   \n",
      "5     0       0.0330         0.894          0.000077    0.2130    0.392   \n",
      "6     0       0.0348         0.828          0.000200    0.1050    0.585   \n",
      "7     1       0.0533         0.827          0.000053    0.0844    0.116   \n",
      "8     1       0.0319         0.759          0.000003    0.1970    0.790   \n",
      "9     1       0.0304         0.874          0.229000    0.1100    0.495   \n",
      "\n",
      "     tempo  duration_ms  time_signature  \n",
      "0   86.328       265000               4  \n",
      "1  182.501       302642               3  \n",
      "2   91.316       415457               4  \n",
      "3   83.299       274227               4  \n",
      "4   83.642       319867               4  \n",
      "5   86.804       253200               4  \n",
      "6   83.767       317693               4  \n",
      "7   36.853       256000               3  \n",
      "8  131.418       196282               4  \n",
      "9   85.579       232040               4  \n"
     ]
    }
   ],
   "source": [
    "import pandas as pd\n",
    "\n",
    "# Sanatçının en popüler şarkılarının kimlik bilgilerini alın\n",
    "artist_id = \"0OjAaymO59uGiFmfpJrQpl\"\n",
    "results = sp.artist_top_tracks(artist_id)\n",
    "track_ids = [track['id'] for track in results['tracks']]\n",
    "\n",
    "# Şarkıların özelliklerini alın\n",
    "audio_features = sp.audio_features(track_ids)\n",
    "df = pd.DataFrame(audio_features)\n",
    "\n",
    "# Gereksiz sütunları kaldırın\n",
    "df.drop(['type', 'id', 'uri', 'track_href', 'analysis_url'], axis=1, inplace=True)\n",
    "\n",
    "# Şarkı adlarını ve sanatçı adını ekleme\n",
    "track_names = [track['name'] for track in results['tracks']]\n",
    "df.insert(0, 'Şarkı Adı', track_names)\n",
    "df.insert(1, 'Sanatçı Adı', 'Bergen')\n",
    "\n",
    "# Tabloyu gösterin\n",
    "print(df)\n"
   ]
  }
 ],
 "metadata": {
  "kernelspec": {
   "display_name": "Python 3 (ipykernel)",
   "language": "python",
   "name": "python3"
  },
  "language_info": {
   "codemirror_mode": {
    "name": "ipython",
    "version": 3
   },
   "file_extension": ".py",
   "mimetype": "text/x-python",
   "name": "python",
   "nbconvert_exporter": "python",
   "pygments_lexer": "ipython3",
   "version": "3.9.13"
  }
 },
 "nbformat": 4,
 "nbformat_minor": 5
}
